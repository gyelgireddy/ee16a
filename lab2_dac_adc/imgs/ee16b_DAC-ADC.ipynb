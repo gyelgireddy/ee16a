{
 "cells": [
  {
   "cell_type": "markdown",
   "metadata": {},
   "source": [
    "# Analog-Digital Circuit Interfaces Part I\n",
    "\n",
    "### EE 16B: Designing Information Devices and Systems II, Fall 2017\n"
   ]
  },
  {
   "cell_type": "markdown",
   "metadata": {},
   "source": [
    "**Name 1**:\n",
    "\n",
    "**Login**: ee16b-\n",
    "\n",
    "\n",
    "**Name 2**:\n",
    "\n",
    "**Login**: ee16b-"
   ]
  },
  {
   "cell_type": "markdown",
   "metadata": {},
   "source": [
    "## Table of Contents\n",
    "\n",
    "* [Introduction](#intro)\n",
    "* [Task 1: MSP430 Launchpad](#task1)\n",
    "* [Task 2: 4-bit Digital to Analog Converter (DAC)](#task2)\n",
    "* [Task 3: 4-bit Analog to Digital Converter (ADC)](#task3)\n",
    "* [Task 4: 8-bit DAC Using an IC](#task4)\n",
    "* [Task 5: 8-bit ADC Using an IC](#task5)\n"
   ]
  },
  {
   "cell_type": "markdown",
   "metadata": {},
   "source": [
    "<a id='intro'></a>\n",
    "## Introduction\n",
    "Welcome to the second lab! We will begin today by exploring the circuit interface between discrete and continuous systems.\n",
    "\n",
    "The \"natural\" world we interact with is analog, or the signals we interact with are continuous, not broken into defined bits (your height is not quantized!). However, our computers work in the digital domain (laptops process values in bits, not in continuous voltage levels). If we want to interface our computer with the \"natural\" world we need to have a mechanism to get a digital signal from an analog signal and an analog signal from a digital signal.\n",
    "\n",
    "<img style=\"width: 500px\" src=\"http://inst.eecs.berkeley.edu/~ee16b/fa15/lab_pics/adc-dac.png\">\n",
    "\n",
    "<a id='overview'></a>\n",
    "### Lab Overview\n",
    "This week we will build both a Digital to Analog Converter (DAC) and an Analog to Digital Converter (ADC) with varying bits of precision.\n",
    "\n",
    "<b>The materials for both this module and the next module are in your parts kit. Please bring these materials every time you have a lab. This lab contains multiple checkoffs questions - make sure to show your work (yes on paper!) to your GSI. Also be prepared to answer some questions about the lab to show your understanding!</b>"
   ]
  },
  {
   "cell_type": "markdown",
   "metadata": {},
   "source": [
    "<a id='task1'></a>\n",
    "## <span style=\"color:blue\">Task 1: MSP430 Launchpad</span>\n",
    "\n",
    "### Materials\n",
    "- MSP430 Launchpad + USB cable"
   ]
  },
  {
   "cell_type": "markdown",
   "metadata": {},
   "source": [
    "#### Review: Using your Launchpad\n",
    "\n",
    "This semester we will be using the <a href=\"http://www.ti.com/ww/en/launchpad/launchpads-msp430-msp-exp430f5529lp.html#tabs\">TI MSP430F5529 Launchpad</a> for our labs. The development board includes the <a href=\"http://www.ti.com/lit/ds/symlink/msp430f5514.pdf\">MSP430F5529 microcontroller</a>. This part might be a review, but it's good if you need a refresher on working with your Launchpad.\n",
    "\n",
    "<img style=\"width: 400px\" src=\"http://inst.eecs.berkeley.edu/~ee16b/fa15/lab_pics/msp430.png\">\n",
    "\n",
    "The Launchpad interfaces with your PC through a USB cable and you can program the microcontroller through a couple different software. In this class we will be using Energia, a software built by TI to look like the Arduino programming environment.\n",
    "\n",
    "If you can't find the Energia shortcut on your desktop, open `File Explorer` and navigate to `This PC`. Find the folder called `Energia`.\n",
    "\n",
    "<img style=\"width:800px\" src=\"http://inst.eecs.berkeley.edu/~ee16b/sp17/lab_pics/cDrive.png\">\n",
    "\n",
    "Inside you will find the application `energia.exe`. To make things easier next time, create a shortcut of the application and move it to the desktop.\n",
    "\n",
    "<img style=\"width:800px\" src=\"http://inst.eecs.berkeley.edu/~ee16b/sp17/lab_pics/energia.png\">\n",
    "\n",
    "<img style=\"width:800px\" src=\"http://inst.eecs.berkeley.edu/~ee16b/sp17/lab_pics/shortcut.png\">\n",
    "\n",
    "\n",
    "Let's start with loading some code on the Launchpad. Launch the Energia software and choose \"Launchpad w/ msp430f5529 (25MHz)\" under `Tools > Board`. You need to make sure to choose one of the msp430f5529's when working with these boards.\n",
    "\n",
    "<img style=\"width:500px\" src=\"http://inst.eecs.berkeley.edu/~ee16b/sp17/lab_pics/boardSelection.png\">\n",
    "\n",
    "When you connect the Launchpad to the PC using the USB cable, the Launchpad starts 2 COM ports to communicate with the PC. One of these is used for the Application UART (Universal Asynchronous Receiver/Transmitter) while the other is used for the debug interface. To choose the right COM port to connect to, click the Windows Home button and type in \"Device Manager\". (If the search returns nothing, you will need to find Device Manager in the controll pannel). Then, click \"Ports (COM & LPT)\". Note the COM value of the Application UART. <b>You need to do this every time you connect a Launchpad to a PC because the COM port might change.</b>\n",
    "\n",
    "<img style=\"width:400px\" src=\"http://inst.eecs.berkeley.edu/~ee16b/fa15/lab_pics/msp-devicemanager.png\">\n",
    "\n",
    "Under `Tools > Serial Port` choose the COM port you have noted before.\n",
    "\n",
    "<img style=\"width:400px\" src=\"http://inst.eecs.berkeley.edu/~ee16b/fa15/lab_pics/msp-setport.png\">\n",
    "\n",
    "Now click `File > Examples > Basics > Blink`. This opens an example sketch (code) that blinks one of the LEDs on the Launchpad.\n",
    "\n",
    "<img style=\"width:400px\" src=\"http://inst.eecs.berkeley.edu/~ee16b/fa15/lab_pics/msp-blink.png\">\n",
    "\n",
    "Click the Upload button (the right arrow in the top left of the window). If Energia asks for a firmware update, follow the instruction by clicking `Tools > Update Programmer`. Then, click on the upload button again.\n",
    "\n",
    "<img style=\"width:400px\" src=\"http://inst.eecs.berkeley.edu/~ee16b/fa15/lab_pics/msp-upload.png\">\n",
    "\n",
    "<img style=\"width:400px\" src=\"http://inst.eecs.berkeley.edu/~ee16b/fa15/lab_pics/msp-firmwareupdate.png\">\n",
    "\n",
    "Press the reset button (`RST`) in the Launchpad. The red LED on your Launchpad should blink. If it doesn't, get a GSI or lab helper to help you debug. In general, always hit the reset button after every upload."
   ]
  },
  {
   "cell_type": "markdown",
   "metadata": {},
   "source": [
    "There are multiple names that refer to the same pin in the Launchpad. For example, in the diagram below, `23` is the same as `P6_0`, which is the same as `A0`. You can use any of these three names in your sketch.\n",
    "\n",
    "<img style=\"width:800px\" src=\"http://inst.eecs.berkeley.edu/~ee16b/fa15/lab_pics/msp430pinout.jpg\">"
   ]
  },
  {
   "cell_type": "markdown",
   "metadata": {},
   "source": [
    "<a id='task2'></a>\n",
    "## <span style=\"color:blue\">Task 2: 4-bit Digital to Analog Converter (DAC)</span>\n",
    "\n",
    "### Materials\n",
    "- MSP430 Launchpad + USB cable\n",
    "- 1 k$\\Omega$ resistors\n",
    "- 2 k$\\Omega$ resistors\n",
    "- Breadboard\n",
    "- Oscilloscobe & probe"
   ]
  },
  {
   "cell_type": "markdown",
   "metadata": {},
   "source": [
    "We will first build a DAC to convert a <b>binary</b> input into an analog voltage. The binary input will come from the Launchpad while the analog voltage will be probed using an oscilloscope.\n",
    "\n",
    "We can build a DAC using only resistors in a structure called the R-2R ladder. This structure takes an $n$ bit binary input and converts it to an output voltage. You maybe have  seen this structure in your practice midterm in EE16A, but let's analyze this structure again.\n",
    "\n",
    "The first diagram of a <b>3-bit</b> DAC's R-2R ladder below is useful for circuit analysis, and the second is useful for connecting the circuit to your Launchpad.\n",
    "\n",
    "<img style=\"width: 350px\" src=\"http://inst.eecs.berkeley.edu/~ee16b/fa15/lab_pics/r-2r.png\">\n",
    "\n",
    "<img style=\"width: 350px\" src=\"imgs/circ3.png\">\n"
   ]
  },
  {
   "cell_type": "markdown",
   "metadata": {},
   "source": [
    "For the questions below, we assume we have an $n = 3$ bit DAC. Don't forget to show your GSI your work! (Hint: Superposition)\n",
    "\n",
    "**<span style=\"color:red\">Please do not spend too long on these questions. If you get stuck, ASK FOR HELP.</span>**\n",
    "\n",
    "**<span style=\"color:red\">Assuming [$V_0, V_1, V_2$] = [0,0,0] (all in volts), what is $V_{out}$?</span>**\n",
    "\n",
    "YOUR ANSWER HERE\n",
    "\n",
    "**<span style=\"color:red\">Assuming [$V_0, V_1, V_2$] = [0,1,0], what is $V_{out}$?</span>**\n",
    "\n",
    "YOUR ANSWER HERE\n",
    "\n",
    "**<span style=\"color:red\">Assuming [$V_0, V_1, V_2$] = [1,1,1], what is $V_{out}$?</span>**\n",
    "\n",
    "YOUR ANSWER HERE\n",
    "\n",
    "Extra for Experts:\n",
    "**<span style=\"color:black\">Assuming [$V_0, V_1, V_2$] = [0,0,1], what is $V_{out}$?</span>**\n",
    "\n",
    "YOUR ANSWER HERE"
   ]
  },
  {
   "cell_type": "markdown",
   "metadata": {},
   "source": [
    "## <span style=\"color:blue\">Part 2: Building the 4-bit DAC</span>\n",
    "\n",
    "\n",
    "We have analyzed the R-2R ladder circuit for a 3-bit DAC above, but now we would like to use our knowledge of a 3-bit DAC circuit to a build a 4-bit DAC. \n",
    "\n",
    "Now build a 4-bit DAC using the $1k\\Omega$ and $2 k\\Omega$ resistors in your packet. As a reminder, the chart below explains how to read the color coding on the resistors. \n",
    "\n",
    "**You should use pin `7` for the new most significant bit (MSB)**. Make sure your 4-bit DAC works using the oscilloscope.\n",
    "\n",
    "<center>\n",
    "<img style=\"width:300px\" src=\"http://inst.eecs.berkeley.edu/~ee16b/fa15/lab_pics/resistor-colors.png\"/>\n",
    "</center>"
   ]
  },
  {
   "cell_type": "markdown",
   "metadata": {},
   "source": [
    "Open the file <b>`dac.ino`</b> in Energia and quickly read through it (what do you expect the output of the DAC to be?). Then upload the code to your Launchpad. The code outputs an increasing and decreasing binary number in pins [`7,8,9,10`] where pin `10` is the least significant bit (LSB). Check out the diagram above to see which pins correspond to numbers `7, 8, 9`, and `10`.\n",
    "\n",
    "Connect these pins to the inputs $V_3, V_2, V_1,$ and $V_0$ of your DAC and use an oscilloscope probe $V_{out}$ to make sure your DAC behaves correctly. Adjust the oscilloscope to show <b>100ms per division</b>. <i>Make sure to connect the ground of your Launchpad with the ground of your circuit!</i>"
   ]
  },
  {
   "cell_type": "markdown",
   "metadata": {},
   "source": [
    "<img width='30px' align='left' src=\"http://inst.eecs.berkeley.edu/~ee16b/sp16/lab_pics/check.png\">\n",
    "<br/>\n",
    "## <span style=\"color:green\">CHECKPOINT 1</span>\n",
    "<span style=\"color:green\">Don't submit a checkoff request at this point. Just raise your hand and show your GSI your 4-bit DAC before you continue.</span>"
   ]
  },
  {
   "cell_type": "markdown",
   "metadata": {},
   "source": [
    "<a id='task3'></a>\n",
    "## <span style=\"color:blue\">Task 3: 4-bit Analog to Digital Converter (ADC)</span>\n",
    "\n",
    "### Materials\n",
    "- MSP430 Launchpad + USB cable\n",
    "- 1 k$\\Omega$ resistors\n",
    "- 2 k$\\Omega$ resistors\n",
    "- LMC6482 Op-amp\n",
    "- Breadboard\n",
    "- Oscilloscobe & probe\n",
    "- Power supply"
   ]
  },
  {
   "cell_type": "markdown",
   "metadata": {},
   "source": [
    "One commonly used circuit architecture for Analog to Digital Converters is the Successive Approximation Register ADC (SAR ADC). The MSP430F5529 microcontroller in your Launchpad actually contains a 12-bit SAR ADC (see page 35 of the microcontroller <a href=\"http://www.ti.com/lit/ds/symlink/msp430f5514.pdf\">spec sheet</a>; the <a href=\"http://www.ti.com/lit/ug/slau406d/slau406d.pdf\">user guide</a> of the ADC12 module has cool block diagrams!), although it is implemented as an integrated circuit and is way more complex than what we will be building today.\n",
    "\n",
    "<img style=\"width: 300px\" src=\"http://inst.eecs.berkeley.edu/~ee16b/fa15/lab_pics/sample-quantize.png\">\n",
    "\n",
    "In general, an ADC has to do two main things: sample and quantize. The sampling is realized in the \"Track/Hold\" block below while the quantizing happens in the rest of the block diagram.\n",
    "\n",
    "<img style=\"width: 500px\" src=\"http://inst.eecs.berkeley.edu/~ee16b/fa15/lab_pics/sar-adc.png\">\n",
    "\n",
    "The SAR actually uses a DAC. In the block diagram above, the \"Track/Hold\" block acts like a memory element that captures the input at regular intervals (at the sampling frequency). We then compare this value to a \"guess\" from our DAC and see if the DAC needs to go higher or lower to match the input value. The \"SAR logic\" block then changes the value stored in the \"N-bit Register\", which is the input to the DAC. This modifies the input to the comparator.\n",
    "\n",
    "The comparison doesn't happen only once for each sample. Assuming $V_{ref}$ is the highest input voltage possible, to approximate the input voltage we make the DAC output voltage range from 0 to $V_{ref}$. We start with setting the MSB of the register high. The output of the DAC should be $0.5V_{ref}$ and we compare this value to the input value. If the input value is higher than $0.5V_{ref}$, we keep the MSB high. Otherwise (as in the diagram below), we set the MSB low. Next we want to find the second MSB. We repeat the process again - set the 2nd MSB high and see if the input is higher or lower. If the input is higher we keep the 2nd MSB (like in the diagram) and if the input is lower we set the 2nd MSB low. We continue this process until we reach the LSB. This effectively implements a binary search on the input voltage.\n",
    "\n",
    "<img style=\"width: 600px\" src=\"http://inst.eecs.berkeley.edu/~ee16b/sp17/lab_pics/ADC_flowChart.png\">\n",
    "\n",
    "<img style=\"width: 400px\" src=\"http://inst.eecs.berkeley.edu/~ee16b/fa15/lab_pics/sar-adc-plot.png\">\n"
   ]
  },
  {
   "cell_type": "markdown",
   "metadata": {},
   "source": [
    "**<span style=\"color:red\">If we want to build a 4-bit ADC with a sampling frequency of 1kHz, what is the minimum clock frequency the ADC has to run at assuming all logic processing is done instantaneously?</span>** (Hint: how many computations must be done?)\n",
    "\n",
    "YOUR ANSWER HERE"
   ]
  },
  {
   "cell_type": "markdown",
   "metadata": {},
   "source": [
    "In our implementation, we will ignore the \"Track/Hold\" block since we will only be using the power source for the input voltage (i.e. we will only use a relatively constant input voltage). We will use an <a href=\"http://www.ti.com/lit/ds/symlink/lmc6482.pdf\">LMC6482</a> op-amp for the comparator and implement both the SAR logic and register in the Launchpad. For the DAC, e will use the 4-bit R-2R DAC from last lab.\n",
    "\n",
    "Open the file `sar_adc.ino` and read through the code. It reads from pin `2` and outputs the approximated result in pins [`7,8,9,10`] with pin `10` as the LSB."
   ]
  },
  {
   "cell_type": "markdown",
   "metadata": {},
   "source": [
    "Our ADC will be a little more simple than the general case we looked at above.\n",
    "\n",
    "<img style=\"width:600px\" src=\"http://inst.eecs.berkeley.edu/~ee16b/sp17/lab_pics/ADC_schematic.png\">\n",
    "\n",
    "Now build the circuit based on the block diagram above.\n",
    "\n",
    "**Make sure to set the current limit of the power source to 100mA.**\n",
    "\n",
    "Because your Launchpad outputs 3.3V, **we will use 3.3V for all power supplies**. Introducing higher voltages in the circuit risks damaging the Launchad. Use the +25V channel of the power supply to power the op-amp.\n",
    "\n",
    "Use the 6V channel as the input voltage (which ranges from 0V to 3.3V). To check the output, open the Serial Monitor in Energia (Control + Shift + M or `Tools > Serial Monitor`) and observe the output. <b>Make sure the serial monitor is at 9600 baud</b>.\n",
    "\n",
    "<img style=\"width:400px\" src=\"http://inst.eecs.berkeley.edu/~ee16b/fa15/lab_pics/opamp-pins.png\">\n",
    "<div align=\"center\">LMC6482 pin diagram</div>\n",
    "\n",
    "If you probe the input to the comparator, your oscilloscope should show something like this:\n",
    "\n",
    "<center>\n",
    "<img style=\"width:600px\" src=\"http://inst.eecs.berkeley.edu/~ee16b/fa15/lab_pics/adc-4.png\"/>\n",
    "</center>"
   ]
  },
  {
   "cell_type": "markdown",
   "metadata": {},
   "source": [
    "<img width='30px' align='left' src=\"http://inst.eecs.berkeley.edu/~ee16b/sp16/lab_pics/check.png\">\n",
    "<br/>\n",
    "## <span style=\"color:green\">CHECKPOINT 2</span>\n",
    " <span style=\"color:green\">Show your GSI that the 4-bit ADC is working properly before you continue.</span>"
   ]
  },
  {
   "cell_type": "markdown",
   "metadata": {},
   "source": [
    "<a id='task4'></a>\n",
    "## <span style=\"color:blue\">Task 4: 8-bit DAC Using an IC</span>\n",
    "\n",
    "### Materials\n",
    "- MSP430 Launchpad + USB cable\n",
    "- LMC6482 Op-amp\n",
    "- TLC7524CN 8-bit DAC\n",
    "- Breadboard\n",
    "- Oscilloscobe & probe\n",
    "- Power supply"
   ]
  },
  {
   "cell_type": "markdown",
   "metadata": {
    "collapsed": true
   },
   "source": [
    "We have a working 4-bit ADC and all is well, but suddenly Michel, your boss, tells you that he wants an 8-bit one instead! He also tells you that he wants to build it without any physical resistors - gasp!\n",
    "\n",
    "Fortunately, there are engineers who build DAC chips for a living, and you found a couple <a href=\"http://www.ti.com/lit/ds/slas061d/slas061d.pdf\">TLC7524CN</a> DACs laying around. Take a quick look at the data sheet."
   ]
  },
  {
   "cell_type": "markdown",
   "metadata": {},
   "source": [
    "**<span style=\"color:red\">Look at the second page of the datasheet (linked above). How is the TLC7524 DAC implemented?</span>**\n",
    "\n",
    "YOUR ANSWER HERE"
   ]
  },
  {
   "cell_type": "markdown",
   "metadata": {},
   "source": [
    "It turns out that the DAC needs some buffering. Below is a modified version of Figure 3 in page 7 in the datasheet on Principles of Operation. Note that the amplifier shown in the diagram below *is not included in the large DAC chip!* This circuit has an inverted output, so both $\\pm$3.3V power supplies for the op-amp are needed.\n",
    "\n",
    "<img style=\"width:600px\" src=\"http://inst.eecs.berkeley.edu/~ee16b/fa15/lab_pics/dac-buffer.png\">\n",
    "\n",
    "**<span style=\"color:red\">Make sure you are using the TLC7524 given in your lab kit, and not a 16 pin IC leftover from EE 16A.</span>**\n",
    "\n",
    "From the schematic above and the pin diagram below, connect the DAC with an op-amp in the <a href=\"http://www.ti.com/lit/ds/symlink/lmc6482.pdf\">LMC6482</a> chip.\n",
    "\n",
    "Use 3.3V for the supply voltage in the DAC and <b>both $\\pm$3.3V</b> for the supply voltage in this op-amp, all from the $\\pm$25V channel in the power supply. The circuit in this lab follows figure 3 on page 7 of the TLC7524 datasheet.\n",
    "\n",
    "See the table below for the connections to each pin:\n",
    "\n",
    "**Remember to connect OUT2 to ground**"
   ]
  },
  {
   "cell_type": "markdown",
   "metadata": {},
   "source": [
    "\n",
    "   DAC Pin      |  Connection\n",
    "--------------- | -------------\n",
    "`OUT1`          | inverting terminal of opamp\n",
    "`OUT2`          | noninverting terminal of opamp, ground\n",
    "`GND`           | ground\n",
    "`DB7` - `DB0`   | Pins 3-10 on Launchpad\n",
    "$\\overline{CS}$ | ground\n",
    "$\\overline{WR}$ | ground\n",
    "`VDD`           | 3.3 V\n",
    "`REF`           | 3.3 V\n",
    "`RFB`           | output of opamp\n",
    "\n",
    "\n",
    "<img style=\"width:200px\" src=\"http://inst.eecs.berkeley.edu/~ee16b/fa15/lab_pics/dac-pins.png\">\n",
    "<div align=\"center\">TLC7524 pin diagram</div>\n",
    "<img style=\"width:400px\" src=\"http://inst.eecs.berkeley.edu/~ee16b/fa15/lab_pics/opamp-pins.png\">\n",
    "<div align=\"center\">LMC6482 pin diagram</div>"
   ]
  },
  {
   "cell_type": "markdown",
   "metadata": {},
   "source": [
    "Use `dac_8bit.ino` (similar to the one from Task 2) to test your DAC. You don't have to change this code. Probe the output of the op amp using an oscilloscope probe. \n",
    "\n",
    "You may realize that the output is actually inverted like the image below!\n",
    "\n",
    "<center>\n",
    "<img style=\"width:550px\" src=\"http://inst.eecs.berkeley.edu/~ee16b/fa15/lab_pics/dac-8-inv.png\"/>\n",
    "</center>\n",
    "\n",
    "This is because the buffer in the schematic above is tied in an inverting amplifier configuration. "
   ]
  },
  {
   "cell_type": "markdown",
   "metadata": {},
   "source": [
    "<b>But we can easily fix this! </b> \n",
    "\n",
    "Build an inverting amplifier with gain of `-1` with the other op-amp in the LMC6482 chip to create a positive output voltage. You can choose any two resistors of the same vaule, but try to pick something between 1 k$\\Omega$ - 100 k$\\Omega$. The added op-amp should also use $\\pm$3.3V.\n",
    "\n",
    "The total circuit should look like this:\n",
    "\n",
    "<center>\n",
    "<img style=\"width:800px\" src=\"http://inst.eecs.berkeley.edu/~ee16b/sp17/lab_pics/dac_chip_final.png\"/>\n",
    "</center>\n",
    "\n",
    "Probe the output one last time to make sure your DAC is set up properly. It should look like below. Don't worry about the clipping near the highest voltage.\n",
    "\n",
    "<center>\n",
    "<img style=\"width:550px\" src=\"http://inst.eecs.berkeley.edu/~ee16b/fa15/lab_pics/dac-8.png\"/>\n",
    "</center>"
   ]
  },
  {
   "cell_type": "markdown",
   "metadata": {},
   "source": [
    "<img width='30px' align='left' src=\"http://inst.eecs.berkeley.edu/~ee16b/sp16/lab_pics/check.png\">\n",
    "<br/>\n",
    "## <span style=\"color:green\">CHECKPOINT 3</span>\n",
    " <span style=\"color:green\">Show your GSI that the 8-bit DAC is working properly before you continue.</span>"
   ]
  },
  {
   "cell_type": "markdown",
   "metadata": {},
   "source": [
    "<a id='task5'></a>\n",
    "## <span style=\"color:blue\">Task 5: 8-bit ADC Using an IC</span>\n",
    "\n",
    "### Materials\n",
    "- MSP430 Launchpad + USB cable\n",
    "- LMC6482 Op-amp\n",
    "- Setup from Task 5\n",
    "- Breadboard\n",
    "- Oscilloscobe & probe\n",
    "- Power supply"
   ]
  },
  {
   "cell_type": "markdown",
   "metadata": {},
   "source": [
    "Now, lets use our 8-bit DAC to make an 8-bit ADC. Hook up your DAC setup to the rest of the SAR ADC circuit (which is exactly the same as the circuit from [Task 4](#task4)).\n",
    "\n",
    "**<span style=\"color:red\">Make sure the comparator op-amp feeding into your Launchpad uses 3.3V and ground, NOT -3.3V.</span>** This protects your Launchpad.\n",
    "\n",
    "See the block schematic below:\n",
    "\n",
    "<img style=\"width:600px\" src=\"http://inst.eecs.berkeley.edu/~ee16b/sp17/lab_pics/ADC_schematic_8.png\"/>\n",
    "\n",
    "Lastly, test your 8-bit SAR ADC by using `sar_adc_8bit.ino` and a constant input voltage from the power supply. Don't change this code!\n",
    "\n",
    "**<span style=\"color:red\">Your oscilloscope should show something like this. Should your signal look exactly like this? Think about why the signal steps up and down when it does, and why it converges to this specific voltage (~1.4V).</span>**\n",
    "\n",
    "<center>\n",
    "<img style=\"width:600px\" src=\"http://inst.eecs.berkeley.edu/~ee16b/fa15/lab_pics/adc-8.png\"/>\n",
    "</center>"
   ]
  },
  {
   "cell_type": "markdown",
   "metadata": {},
   "source": [
    "<img width='30px' align='left' src=\"http://inst.eecs.berkeley.edu/~ee16b/sp16/lab_pics/check.png\">\n",
    "<br/>\n",
    "## <span style=\"color:green\">CHECKOFF</span>\n",
    " <span style=\"color:green\">Complete <a href=\"http://www.tinyurl.com/lab3-checkoff-quiz\n",
    "\">this quiz</a>, and show your GSI your working 8-bit ADC.</span>"
   ]
  }
 ],
 "metadata": {
  "anaconda-cloud": {},
  "kernelspec": {
   "display_name": "Python 3",
   "language": "python",
   "name": "python3"
  },
  "language_info": {
   "codemirror_mode": {
    "name": "ipython",
    "version": 3
   },
   "file_extension": ".py",
   "mimetype": "text/x-python",
   "name": "python",
   "nbconvert_exporter": "python",
   "pygments_lexer": "ipython3",
   "version": "3.6.1"
  }
 },
 "nbformat": 4,
 "nbformat_minor": 1
}
