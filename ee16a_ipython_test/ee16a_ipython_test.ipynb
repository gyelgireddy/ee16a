{
 "cells": [
  {
   "cell_type": "markdown",
   "metadata": {},
   "source": [
    "# EE 16A Python Install\n",
    "### EECS 16A: Designing Information Devices and Systems I, Fall 2017"
   ]
  },
  {
   "cell_type": "markdown",
   "metadata": {},
   "source": [
    "<a id='overview'></a>\n",
    "# Overview\n",
    "\n",
    "Well done! It looks like you have managed to install Anaconda and open up an iPython notebook! Now we just want to make sure that everything installed correctly. Click on the block of code below (don't worry about what it does - we'll start covering that next lab) and press the Play button above to run it. Alternatively, you can use Shift + Enter to execute and move to the next block, or Control + Enter to execute and stay in the same block. If everything has installed correctly, you should **only** see the text 'Congratulations! You get to go home!' appear below the code block.\n",
    "\n",
    "If anything else appears (most likely a jumbled mass of text that is an error message, warnings are fine) call over one of your lab TA's or lab assistants and they should be able to help!"
   ]
  },
  {
   "cell_type": "markdown",
   "metadata": {},
   "source": [
    "### **<span style=\"color:red\">Run the code block below by clicking anywhere inside of it and pressing Shift + Enter</span>**"
   ]
  },
  {
   "cell_type": "code",
   "execution_count": 1,
   "metadata": {},
   "outputs": [
    {
     "name": "stdout",
     "output_type": "stream",
     "text": [
      "Congratulations! You get to go home!\n"
     ]
    }
   ],
   "source": [
    "import numpy as np\n",
    "import struct\n",
    "import time\n",
    "import warnings\n",
    "import math\n",
    "from numpy.linalg import inv\n",
    "from  pylab import *\n",
    "import struct\n",
    "from scipy import random\n",
    "import time\n",
    "import scipy\n",
    "from scipy import linalg\n",
    "from notebook import *\n",
    "from __future__ import division\n",
    "import random\n",
    "import math\n",
    "from IPython import display\n",
    "\n",
    "print(\"Congratulations! You get to go home!\")"
   ]
  },
  {
   "cell_type": "markdown",
   "metadata": {},
   "source": [
    "### **Thats it! You're Done!**"
   ]
  }
 ],
 "metadata": {
  "anaconda-cloud": {},
  "kernelspec": {
   "display_name": "Python 3",
   "language": "python",
   "name": "python3"
  },
  "language_info": {
   "codemirror_mode": {
    "name": "ipython",
    "version": 3
   },
   "file_extension": ".py",
   "mimetype": "text/x-python",
   "name": "python",
   "nbconvert_exporter": "python",
   "pygments_lexer": "ipython3",
   "version": "3.6.1"
  }
 },
 "nbformat": 4,
 "nbformat_minor": 1
}
