{
 "cells": [
  {
   "cell_type": "markdown",
   "metadata": {},
   "source": [
    "# EE16A Homework 12"
   ]
  },
  {
   "cell_type": "markdown",
   "metadata": {
    "collapsed": true
   },
   "source": [
    "## Question 1: Labeling Patients Using Gene Expression Data"
   ]
  },
  {
   "cell_type": "code",
   "execution_count": 2,
   "metadata": {},
   "outputs": [
    {
     "name": "stdout",
     "output_type": "stream",
     "text": [
      "Populating the interactive namespace from numpy and matplotlib\n"
     ]
    }
   ],
   "source": [
    "%pylab inline\n",
    "import numpy as np\n",
    "import matplotlib.pyplot as plt\n",
    "import scipy.io\n",
    "import sys"
   ]
  },
  {
   "cell_type": "markdown",
   "metadata": {},
   "source": [
    "### Part (b)"
   ]
  },
  {
   "cell_type": "code",
   "execution_count": 3,
   "metadata": {},
   "outputs": [
    {
     "name": "stdout",
     "output_type": "stream",
     "text": [
      "[[-0.15646169]\n",
      " [ 0.09239418]\n",
      " [ 0.48053974]\n",
      " [-0.5847018 ]\n",
      " [-0.35350734]]\n"
     ]
    }
   ],
   "source": [
    "A = np.load('gene_data_train.npy')\n",
    "b = np.load('diabetes_train.npy')\n",
    "\n",
    "# YOUR CODE HERE\n",
    "inverse = np.linalg.inv(np.dot(transpose(A), A))\n",
    "intermediate = np.dot(inverse, transpose(A))\n",
    "x = np.dot(intermediate, b)\n",
    "print(x)"
   ]
  },
  {
   "cell_type": "markdown",
   "metadata": {},
   "source": [
    "### Part (c)"
   ]
  },
  {
   "cell_type": "code",
   "execution_count": 4,
   "metadata": {},
   "outputs": [
    {
     "name": "stdout",
     "output_type": "stream",
     "text": [
      "[[ 0.02743822]\n",
      " [-0.30439161]\n",
      " [-1.24077589]\n",
      " [ 1.9307863 ]]\n"
     ]
    }
   ],
   "source": [
    "A_test = np.load('gene_data_test.npy')\n",
    "b_test = np.load('diabetes_test.npy')\n",
    "\n",
    "# YOUR CODE HERE\n",
    "result = np.dot(A_test, x)\n",
    "print(result)"
   ]
  },
  {
   "cell_type": "markdown",
   "metadata": {},
   "source": [
    "## Question 2: The Framingham Risk Score"
   ]
  },
  {
   "cell_type": "code",
   "execution_count": 5,
   "metadata": {},
   "outputs": [
    {
     "name": "stdout",
     "output_type": "stream",
     "text": [
      "Populating the interactive namespace from numpy and matplotlib\n"
     ]
    }
   ],
   "source": [
    "%pylab inline\n",
    "import numpy as np\n",
    "import matplotlib.pyplot as plt"
   ]
  },
  {
   "cell_type": "markdown",
   "metadata": {},
   "source": [
    "### Part (a)"
   ]
  },
  {
   "cell_type": "code",
   "execution_count": 8,
   "metadata": {
    "collapsed": true
   },
   "outputs": [],
   "source": [
    "# Importing medical data\n",
    "import scipy.io\n",
    "\n",
    "# LOADS IN THE MEDICAL DATA IN THE FORM OF A PYTHON DICTIONARY.\n",
    "# Data credit: CDC (https://www.cdc.gov/nchs/nhanes/index.htm)\n",
    "data = scipy.io.loadmat('CVDdata.mat')\n",
    "\n",
    "#UNPACKING DATA INTO COLUMN VECTORS\n",
    "AGE = data['AGE']\n",
    "TC = data['TC']\n",
    "HDL = data['HDL']\n",
    "SBP = data['SBP']\n",
    "DIA = data['DIABETIC']\n",
    "SMK = data['SMOKER']\n",
    "p = data['pNoisy']\n",
    "\n",
    "# Write expressions for b, A1, A2, A3, A4, A5, A6\n",
    "# It will help to use the identity log_n(z) = log(z)/log(n)\n",
    "\n",
    "b = np.log(np.log(1-p)/np.log(0.95)) + 26.1931\n",
    "\n",
    "A1 = np.log(AGE)\n",
    "A2 = np.log(TC)\n",
    "A3 = np.log(HDL)\n",
    "A4 = np.log(SBP)\n",
    "A5 = DIA\n",
    "A6 = SMK"
   ]
  },
  {
   "cell_type": "markdown",
   "metadata": {},
   "source": [
    "### Part (b)"
   ]
  },
  {
   "cell_type": "code",
   "execution_count": 9,
   "metadata": {
    "collapsed": true
   },
   "outputs": [],
   "source": [
    "# Write expressions for b and A\n",
    "# The function np.hstack will be helpful for constructing A\n",
    "b = b\n",
    "A = np.hstack([A1, A2, A3, A4, A5, A6])"
   ]
  },
  {
   "cell_type": "markdown",
   "metadata": {},
   "source": [
    "### Part (c)"
   ]
  },
  {
   "cell_type": "code",
   "execution_count": 11,
   "metadata": {},
   "outputs": [
    {
     "name": "stdout",
     "output_type": "stream",
     "text": [
      "The estimated values for x are xhat = [[ 2.34335592  1.24071471 -0.66932531  2.68487652  0.70535101  0.513298  ]]\n"
     ]
    }
   ],
   "source": [
    "# Write an expression for xhat\n",
    "\n",
    "xhat = np.dot(np.dot(np.linalg.inv(np.dot(transpose(A), A)),np.transpose(A)),b)\n",
    "\n",
    "print(\"The estimated values for x are xhat = \" + str(xhat.T))"
   ]
  },
  {
   "cell_type": "markdown",
   "metadata": {},
   "source": [
    "### Part (d)"
   ]
  },
  {
   "cell_type": "code",
   "execution_count": 14,
   "metadata": {},
   "outputs": [
    {
     "name": "stdout",
     "output_type": "stream",
     "text": [
      "The model's prediction of b is [[ 26.21252989]\n",
      " [ 27.41117879]\n",
      " [ 27.43500704]\n",
      " [ 25.80504015]\n",
      " [ 26.12504356]\n",
      " [ 26.68006468]\n",
      " [ 27.16772057]\n",
      " [ 27.14764991]\n",
      " [ 25.65622405]\n",
      " [ 27.06394375]\n",
      " [ 25.810169  ]\n",
      " [ 26.60174108]\n",
      " [ 26.67892168]\n",
      " [ 26.8477063 ]\n",
      " [ 26.29821874]\n",
      " [ 26.8532765 ]\n",
      " [ 26.14235821]\n",
      " [ 25.37868019]\n",
      " [ 28.80243351]\n",
      " [ 24.9265512 ]\n",
      " [ 26.77380536]\n",
      " [ 27.46423111]\n",
      " [ 26.69602829]\n",
      " [ 26.77839187]\n",
      " [ 26.21502015]\n",
      " [ 26.25134401]\n",
      " [ 27.22971296]\n",
      " [ 26.94461791]\n",
      " [ 25.75207362]\n",
      " [ 27.46650623]\n",
      " [ 26.58845411]\n",
      " [ 27.37647175]\n",
      " [ 26.75333685]\n",
      " [ 25.65488896]\n",
      " [ 26.00517592]\n",
      " [ 25.06830367]\n",
      " [ 24.97375723]\n",
      " [ 26.13730247]\n",
      " [ 26.39981879]\n",
      " [ 26.8552638 ]\n",
      " [ 26.21302624]\n",
      " [ 27.05720308]\n",
      " [ 28.90977223]\n",
      " [ 28.5295435 ]\n",
      " [ 27.42671455]\n",
      " [ 26.84278597]\n",
      " [ 25.4570854 ]\n",
      " [ 26.27059625]\n",
      " [ 26.51336287]\n",
      " [ 24.98110087]\n",
      " [ 26.51890134]\n",
      " [ 25.69612305]\n",
      " [ 27.51780495]\n",
      " [ 28.23845687]\n",
      " [ 27.03346501]\n",
      " [ 27.28259679]\n",
      " [ 26.91716709]\n",
      " [ 25.11079746]\n",
      " [ 25.29310842]\n",
      " [ 27.21187325]\n",
      " [ 26.32032298]\n",
      " [ 23.74520223]\n",
      " [ 25.58399076]\n",
      " [ 25.74345419]\n",
      " [ 26.0749625 ]\n",
      " [ 25.1593643 ]\n",
      " [ 27.91462749]\n",
      " [ 23.9011427 ]\n",
      " [ 27.56867673]\n",
      " [ 26.92534506]\n",
      " [ 27.09505028]\n",
      " [ 27.47534333]\n",
      " [ 28.29052108]\n",
      " [ 26.22126358]\n",
      " [ 26.30373108]\n",
      " [ 27.71415744]\n",
      " [ 26.28950059]\n",
      " [ 24.78938762]\n",
      " [ 26.17130335]\n",
      " [ 26.97270814]\n",
      " [ 26.41869982]\n",
      " [ 24.97517674]\n",
      " [ 26.02696776]\n",
      " [ 23.97469318]\n",
      " [ 27.06608049]\n",
      " [ 25.96288013]\n",
      " [ 27.71491097]\n",
      " [ 26.71880226]\n",
      " [ 26.6401658 ]\n",
      " [ 26.80880113]\n",
      " [ 26.7466594 ]]\n",
      "The sum of squared errors is 0.695074548025\n"
     ]
    }
   ],
   "source": [
    "# the model estimate bhat, and the squared error e2\n",
    "bhat = np.dot(A, xhat)\n",
    "e2 = pow(np.linalg.norm(bhat-b), 2)\n",
    "\n",
    "print(\"The model's prediction of b is \" + str(bhat))\n",
    "print(\"The sum of squared errors is \" + str(e2))"
   ]
  },
  {
   "cell_type": "markdown",
   "metadata": {},
   "source": [
    "### Part (e)"
   ]
  },
  {
   "cell_type": "code",
   "execution_count": 15,
   "metadata": {},
   "outputs": [
    {
     "data": {
      "text/plain": [
       "[<matplotlib.lines.Line2D at 0x110516cf8>]"
      ]
     },
     "execution_count": 15,
     "metadata": {},
     "output_type": "execute_result"
    },
    {
     "data": {
      "image/png": "[encoded data removed]",
      "text/plain": [
       "<matplotlib.figure.Figure at 0x110006c50>"
      ]
     },
     "metadata": {},
     "output_type": "display_data"
    },
    {
     "data": {
      "image/png": "[encoded data removed]",
      "text/plain": [
       "<matplotlib.figure.Figure at 0x110496be0>"
      ]
     },
     "metadata": {},
     "output_type": "display_data"
    },
    {
     "data": {
      "image/png": "[encoded data removed]",
      "text/plain": [
       "<matplotlib.figure.Figure at 0x11050c3c8>"
      ]
     },
     "metadata": {},
     "output_type": "display_data"
    }
   ],
   "source": [
    "# Linear plots, pick an index below (0,1,2,etc). This code will plot b and bhat vs Ai\n",
    "plt.figure(0)\n",
    "i = 0\n",
    "plt.plot(A[:,i],b,'ob')\n",
    "plt.plot(A[:,i],bhat,'or')\n",
    "\n",
    "plt.figure(1)\n",
    "i = 1\n",
    "plt.plot(A[:,i],b,'ob')\n",
    "plt.plot(A[:,i],bhat,'or')\n",
    "\n",
    "plt.figure(2)\n",
    "i = 2\n",
    "plt.plot(A[:,i],b,'ob')\n",
    "plt.plot(A[:,i],bhat,'or')"
   ]
  },
  {
   "cell_type": "markdown",
   "metadata": {},
   "source": [
    "### Part (f)"
   ]
  },
  {
   "cell_type": "code",
   "execution_count": 19,
   "metadata": {},
   "outputs": [
    {
     "data": {
      "text/plain": [
       "[<matplotlib.lines.Line2D at 0x1109da9b0>]"
      ]
     },
     "execution_count": 19,
     "metadata": {},
     "output_type": "execute_result"
    },
    {
     "data": {
      "image/png": "[encoded data removed]",
      "text/plain": [
       "<matplotlib.figure.Figure at 0x110900be0>"
      ]
     },
     "metadata": {},
     "output_type": "display_data"
    }
   ],
   "source": [
    "# Here are the values for the test plot\n",
    "age_test = 40\n",
    "tc_test_vector = np.linspace(100,350,(350-100+1))\n",
    "hdl_test = 25\n",
    "sbp_test = 220\n",
    "dia_test = 1\n",
    "smk_test = 1\n",
    "\n",
    "A2_test = np.zeros(tc_test_vector.size)\n",
    "b_test = np.zeros(tc_test_vector.size)\n",
    "\n",
    "for ind in range(tc_test_vector.size):\n",
    "    tc_test = tc_test_vector[ind];\n",
    "    # Use the values for age_test, tc_test, hdl_test, sbp_test, dia_test\n",
    "    # and smk_test to calculate the next value for b_test (y axis value)\n",
    "    # and A2_test (x_axis value)\n",
    "    b_test[ind] = xhat[0] * np.log(age_test) + xhat[1] * np.log(tc_test) + xhat[2] * np.log(hdl_test) + \\\n",
    "                  xhat[3] * np.log(sbp_test) + xhat[4] * dia_test + xhat[5] * smk_test \n",
    "    A2_test[ind] = np.log(tc_test)\n",
    "\n",
    "plt.plot(A2_test,b_test,'-b')"
   ]
  },
  {
   "cell_type": "markdown",
   "metadata": {},
   "source": [
    "### Part (g)"
   ]
  },
  {
   "cell_type": "code",
   "execution_count": 26,
   "metadata": {},
   "outputs": [
    {
     "name": "stdout",
     "output_type": "stream",
     "text": [
      "The sum of squared errors after perturbing is 77.1627202191\n"
     ]
    },
    {
     "data": {
      "image/png": "[encoded data removed]",
      "text/plain": [
       "<matplotlib.figure.Figure at 0x11091d9e8>"
      ]
     },
     "metadata": {},
     "output_type": "display_data"
    }
   ],
   "source": [
    "# Perturb xhat from the solution above, store into x_perturbed and replot.\n",
    "\n",
    "# Use the following example expression with different pertrubations.\n",
    "x_perturbed = xhat+np.matrix([.1, 0.2, 0.2, -0.3, 0.1, 0.32]).T\n",
    "\n",
    "# What are the new estimated b values in terms of x_perturbed?\n",
    "b_perturbed = np.dot(A, x_perturbed)\n",
    "\n",
    "# Plot again\n",
    "plt.plot(A[:,i],b,'ob')\n",
    "plt.plot(A[:,i],b_perturbed,'or')\n",
    "\n",
    "# What is the new sum of squared errors (after perturbing)?\n",
    "e2_perturbed = pow(np.linalg.norm(b-b_perturbed), 2)\n",
    "\n",
    "print(\"The sum of squared errors after perturbing is \" + str(e2_perturbed))"
   ]
  },
  {
   "cell_type": "markdown",
   "metadata": {},
   "source": [
    "### PRACTICE: Part (h)"
   ]
  },
  {
   "cell_type": "code",
   "execution_count": 28,
   "metadata": {},
   "outputs": [],
   "source": [
    "# Nonlinear plots, pick an index below (0,1,2,etc). This code will plot b and bhat vs Ai\n",
    "i = 3\n",
    "\n",
    "# Write an expression for estimated p values here\n",
    "p_estimated = \n",
    "\n",
    "plt.plot(np.exp(A[:,i]),p,'ob')\n",
    "plt.plot(np.exp(A[:,i]),p_estimated,'or')"
   ]
  },
  {
   "cell_type": "markdown",
   "metadata": {},
   "source": [
    "### PRACTICE: Part (i)"
   ]
  },
  {
   "cell_type": "code",
   "execution_count": 29,
   "metadata": {},
   "outputs": [],
   "source": [
    "# transform b_test into p_test\n",
    "p_test =\n",
    "\n",
    "plt.plot(tc_test_vector,p_test,'-b')"
   ]
  }
 ],
 "metadata": {
  "anaconda-cloud": {},
  "kernelspec": {
   "display_name": "Python 3",
   "language": "python",
   "name": "python3"
  },
  "language_info": {
   "codemirror_mode": {
    "name": "ipython",
    "version": 3
   },
   "file_extension": ".py",
   "mimetype": "text/x-python",
   "name": "python",
   "nbconvert_exporter": "python",
   "pygments_lexer": "ipython3",
   "version": "3.6.3"
  }
 },
 "nbformat": 4,
 "nbformat_minor": 1
}
