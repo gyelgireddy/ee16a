{
 "cells": [
  {
   "cell_type": "markdown",
   "metadata": {},
   "source": [
    "# EE16A Homework 13"
   ]
  },
  {
   "cell_type": "markdown",
   "metadata": {},
   "source": [
    "## Question 2: How Much Is Too Much?"
   ]
  },
  {
   "cell_type": "code",
   "execution_count": null,
   "metadata": {
    "collapsed": true
   },
   "outputs": [],
   "source": [
    "import numpy as np\n",
    "import numpy.matlib\n",
    "import matplotlib.pyplot as plt\n",
    "\n",
    "%matplotlib inline\n",
    "   \n",
    "\"\"\"Function that defines a data matrix for some input data.\"\"\"\n",
    "def data_matrix(input_data,degree): \n",
    "    # degree is the degree of the polynomial you plan to fit the data with    \n",
    "    Data=np.zeros((len(input_data),degree+1))\n",
    "    \n",
    "    for k in range(0,degree+1):\n",
    "        Data[:,k]=(list(map(lambda x:x**k ,input_data)))\n",
    "                  \n",
    "    return Data\n",
    "\n",
    "\"\"\"Function that computes the Least Squares Approximation\"\"\"\n",
    "def leastSquares(D,y): \n",
    "    return np.linalg.lstsq(D,y)[0]\n",
    "\n",
    "\"\"\"This function is used for plotting only\"\"\"\n",
    "def poly_curve(params,x_input):\n",
    "    # params contains the coefficients that multiply the polynomial terms, in degree of lowest degree to highest degree\n",
    "    degree=len(params)-1\n",
    "    x_range=[x_input[1], x_input[-1]]\n",
    "    x=np.linspace(x_range[0],x_range[1],1000)\n",
    "    y=x*0\n",
    "    \n",
    "    for k in range(0,degree+1):\n",
    "        coeff=params[k]\n",
    "        y=y+list(map(lambda z:coeff*z**k,x))        \n",
    "    return x,y\n",
    "                  \n",
    "np.random.seed(10)"
   ]
  },
  {
   "cell_type": "markdown",
   "metadata": {},
   "source": [
    "### Part (a)\n",
    "Some setup code to create our resistor test data points and plot them."
   ]
  },
  {
   "cell_type": "code",
   "execution_count": null,
   "metadata": {
    "collapsed": true
   },
   "outputs": [],
   "source": [
    "R = 2\n",
    "x_a = np.linspace(-11,11,200)\n",
    "y_a = R*x_a + (np.random.rand(len(x_a))-0.5)*10\n",
    "fig = plt.figure()\n",
    "ax=fig.add_subplot(111,xlim=[-11,11],ylim=[-21,21])\n",
    "ax.plot(x_a,y_a, '.b', markersize=15)\n",
    "ax.legend(['Data Points'])"
   ]
  },
  {
   "cell_type": "markdown",
   "metadata": {},
   "source": [
    "Let's calculate a polynomial approximation of the above device."
   ]
  },
  {
   "cell_type": "code",
   "execution_count": null,
   "metadata": {
    "collapsed": true
   },
   "outputs": [],
   "source": [
    "# Play around with the degree here to try and fit different degree polynomials\n",
    "degree=15\n",
    "D_a = data_matrix(x_a,degree)\n",
    "p_a = leastSquares(D_a, y_a)\n",
    "\n",
    "fig=plt.figure()\n",
    "ax=fig.add_subplot(111,xlim=[-11,11],ylim=[-21,21])\n",
    "x_a_,y_a_=poly_curve(p_a,x_a)\n",
    "ax.plot(x_a,y_a,'.b',markersize=15)\n",
    "ax.plot(x_a_, y_a_, 'r')\n",
    "ax.legend(['Data Points'])\n",
    "plt.title('Polynomial of Degree %d' %(len(p_a)-1),fontsize=16)"
   ]
  },
  {
   "cell_type": "markdown",
   "metadata": {},
   "source": [
    "### Part (b)"
   ]
  },
  {
   "cell_type": "code",
   "execution_count": null,
   "metadata": {
    "collapsed": true
   },
   "outputs": [],
   "source": [
    "def cost(x, y, start, end):\n",
    "    \"\"\"Given a set of x and y points, this function \n",
    "    calculates polynomial approximations of varying \n",
    "    degrees from start to end and returns the cost \n",
    "    of each degree in an array. The calculated cost \n",
    "    should be the mean square error.\"\"\"\n",
    "    c = []\n",
    "    for degree in range(start, end):\n",
    "        # YOUR CODE HERE\n",
    "    return c"
   ]
  },
  {
   "cell_type": "code",
   "execution_count": null,
   "metadata": {
    "collapsed": true
   },
   "outputs": [],
   "source": [
    "start = 1\n",
    "end = 15\n",
    "fig=plt.figure()\n",
    "ax=fig.add_subplot(111)\n",
    "ax.plot(range(start, end), cost(x_a,y_a,start,end))\n",
    "plt.title('Cost vs. Degree')"
   ]
  },
  {
   "cell_type": "markdown",
   "metadata": {},
   "source": [
    "### Part (c)"
   ]
  },
  {
   "cell_type": "code",
   "execution_count": null,
   "metadata": {
    "collapsed": true
   },
   "outputs": [],
   "source": [
    "def improvedCost(x, y, x_test, y_test, start, end):\n",
    "    \"\"\"Given a set of x and y points training points, \n",
    "    this function calculates polynomial approximations of varying \n",
    "    degrees from start to end. Then it returns the cost, with \n",
    "    the polynomial tested on test points of each degree in an array\"\"\"\n",
    "    c = []\n",
    "    for degree in range(start, end):\n",
    "        # YOUR CODE HERE\n",
    "    return c"
   ]
  },
  {
   "cell_type": "code",
   "execution_count": null,
   "metadata": {
    "collapsed": true
   },
   "outputs": [],
   "source": [
    "# Run this to test your new cost function\n",
    "start = 1\n",
    "end = 15\n",
    "x_a_test = x_a[0::2]\n",
    "x_a_training = x_a[1::2]\n",
    "y_a_test = y_a[0::2]\n",
    "y_a_training = y_a[1::2]\n",
    "c = improvedCost(x_a_training, y_a_training, x_a_test, y_a_test, start, end)\n",
    "fig=plt.figure()\n",
    "ax=fig.add_subplot(111)\n",
    "ax.plot(range(start,end), c)\n",
    "plt.title('Cost vs. Degree')"
   ]
  },
  {
   "cell_type": "markdown",
   "metadata": {},
   "source": [
    "### Part (d)"
   ]
  },
  {
   "cell_type": "code",
   "execution_count": null,
   "metadata": {
    "collapsed": true
   },
   "outputs": [],
   "source": [
    "x_d_par=np.array([0.1,-4,-4,1])\n",
    "x_d=np.linspace(-11,11,200)\n",
    "y_d=np.dot(data_matrix(x_d,3),x_d_par)+(np.random.rand(len(x_d))-0.5)*10\n",
    "\n",
    "fig=plt.figure()\n",
    "ax=fig.add_subplot(111,xlim=[-11,11],ylim=[-21,21])\n",
    "ax.plot(x_d,y_d,'.b',markersize=15)\n",
    "ax.legend(['Data Points'])\n",
    "print(len(x_d))"
   ]
  },
  {
   "cell_type": "code",
   "execution_count": null,
   "metadata": {
    "collapsed": true
   },
   "outputs": [],
   "source": [
    "# Play With the degree to try to fit different degree polynomials\n",
    "degree=15\n",
    "D_d = data_matrix(x_d,degree)\n",
    "p_d = leastSquares(D_d, y_d)\n",
    "\n",
    "fig=plt.figure()\n",
    "ax=fig.add_subplot(111,xlim=[-11,11],ylim=[-21,21])\n",
    "x_d_,y_d_=poly_curve(p_d,x_d)\n",
    "ax.plot(x_d,y_d,'.b',markersize=15)\n",
    "ax.plot(x_d_, y_d_, 'r')\n",
    "ax.legend(['Data Points'])\n",
    "plt.title('Polynomial of Degree %d' %(len(p_d)-1),fontsize=16)"
   ]
  },
  {
   "cell_type": "code",
   "execution_count": null,
   "metadata": {
    "collapsed": true
   },
   "outputs": [],
   "source": [
    "start = 5\n",
    "end = 15\n",
    "x_d_test = x_d[0::2]\n",
    "x_d_training = x_d[1::2]\n",
    "y_d_test = y_d[0::2]\n",
    "y_d_training = y_d[1::2]\n",
    "c = improvedCost(x_d_training, y_d_training, x_d_test, y_d_test, start, end)\n",
    "fig=plt.figure()\n",
    "ax=fig.add_subplot(111)\n",
    "ax.plot(range(start,end), c)\n",
    "plt.title('Cost vs. Degree')"
   ]
  },
  {
   "cell_type": "markdown",
   "metadata": {},
   "source": [
    "### Part (e)"
   ]
  },
  {
   "cell_type": "code",
   "execution_count": null,
   "metadata": {
    "collapsed": true
   },
   "outputs": [],
   "source": [
    "x_e=np.linspace(-11,11,200)\n",
    "y_e=0.4*np.exp(x_e)+(np.random.rand(len(x_e))-0.5)*10\n",
    "\n",
    "fig=plt.figure()\n",
    "ax=fig.add_subplot(111,xlim=[-11,11],ylim=[-21,41])\n",
    "ax.plot(x_e,y_e,'.b',markersize=15)\n",
    "ax.legend(['Data Points'])"
   ]
  },
  {
   "cell_type": "code",
   "execution_count": null,
   "metadata": {
    "collapsed": true
   },
   "outputs": [],
   "source": [
    "# Play With the degree to try to fit different degree polynomials\n",
    "degree=15\n",
    "D_e = data_matrix(x_e,degree)\n",
    "p_e = leastSquares(D_e, y_e)\n",
    "\n",
    "fig=plt.figure()\n",
    "ax=fig.add_subplot(111,xlim=[-11,11],ylim=[-21,21])\n",
    "x_e_,y_e_=poly_curve(p_e,x_e)\n",
    "ax.plot(x_e,y_e,'.b',markersize=15)\n",
    "ax.plot(x_e_, y_e_, 'r')\n",
    "ax.legend(['Data Points'])\n",
    "plt.title('Polynomial of Degree %d' %(len(p_e)-1),fontsize=16)"
   ]
  },
  {
   "cell_type": "code",
   "execution_count": null,
   "metadata": {
    "collapsed": true
   },
   "outputs": [],
   "source": [
    "start = 1\n",
    "end = 15\n",
    "x_e_test = x_e[0::2]\n",
    "x_e_training = x_e[1::2]\n",
    "y_e_test = y_e[0::2]\n",
    "y_e_training = y_e[1::2]\n",
    "c = improvedCost(x_e_training, y_e_training, x_e_test, y_e_test, start, end)\n",
    "fig=plt.figure()\n",
    "ax=fig.add_subplot(111)\n",
    "ax.plot(range(start,end), c)\n",
    "plt.title('Cost vs. Degree')"
   ]
  },
  {
   "cell_type": "markdown",
   "metadata": {
    "collapsed": true
   },
   "source": [
    "## Question 3: Sparse Imaging\n",
    "\n",
    "This example generates a sparse signal and tries to recover it using the Orthogonal Matching Pursuit algorithm."
   ]
  },
  {
   "cell_type": "code",
   "execution_count": null,
   "metadata": {
    "collapsed": true
   },
   "outputs": [],
   "source": [
    "# imports\n",
    "import matplotlib.pyplot as plt\n",
    "import numpy as np\n",
    "from scipy import misc\n",
    "from IPython import display\n",
    "from simulator import *\n",
    "%matplotlib inline"
   ]
  },
  {
   "cell_type": "code",
   "execution_count": null,
   "metadata": {
    "collapsed": true
   },
   "outputs": [],
   "source": [
    "measurements, A = simulate()\n",
    "\n",
    "# THE SETTINGS FOR THE IMAGE - PLEASE DO NOT CHANGE\n",
    "height = 91\n",
    "width = 120\n",
    "sparsity = 476\n",
    "numPixels = len(A[0])"
   ]
  },
  {
   "cell_type": "code",
   "execution_count": null,
   "metadata": {
    "collapsed": true
   },
   "outputs": [],
   "source": [
    "# CHOOSE DIFFERENT MASKS TO PLOT\n",
    "chosenMaskToDisplay = 0\n",
    "\n",
    "M0 = A[chosenMaskToDisplay].reshape((height,width))\n",
    "plt.title('mask %d'%chosenMaskToDisplay)\n",
    "plt.imshow(M0, cmap=plt.cm.gray, interpolation='nearest');"
   ]
  },
  {
   "cell_type": "code",
   "execution_count": null,
   "metadata": {
    "collapsed": true
   },
   "outputs": [],
   "source": [
    "# measurements\n",
    "plt.title('measurements')\n",
    "plt.plot(measurements)\n",
    "plt.xlabel('measurement index')\n",
    "plt.show()"
   ]
  },
  {
   "cell_type": "code",
   "execution_count": null,
   "metadata": {
    "collapsed": true
   },
   "outputs": [],
   "source": [
    "# OMP algorithm\n",
    "# THERE ARE MISSING LINES THAT YOU NEED TO FILL\n",
    "def OMP(imDims, sparsity, measurements, A):\n",
    "    r = measurements.copy()\n",
    "    indices = []\n",
    "    \n",
    "    # Threshold to check error. If error is below this value, stop.\n",
    "    THRESHOLD = 0.1\n",
    "    \n",
    "    # For iterating to recover all signal\n",
    "    i = 0\n",
    "    \n",
    "    while i < sparsity and np.linalg.norm(r) > THRESHOLD: \n",
    "        # Calculate the correlations\n",
    "        print('%d - '%i,end=\"\",flush=True)\n",
    "        corrs = A.T.dot(r)\n",
    "\n",
    "        # Choose highest-correlated pixel location and add to collection\n",
    "        # COMPLETE THE LINE BELOW\n",
    "        best_index = np.argmax(np.abs(COMPLETE_HERE))\n",
    "        indices.append(best_index)\n",
    "\n",
    "        # Build the matrix made up of selected indices so far\n",
    "        # COMPLETE THE LINE BELOW\n",
    "        Atrunc = A[:,COMPLETE_HERE]\n",
    "\n",
    "        # Find orthogonal projection of measurements to subspace\n",
    "        # spanned by recovered codewords\n",
    "        b = measurements\n",
    "        # COMPLETE THE LINE BELOW\n",
    "        xhat = np.linalg.lstsq(COMPLETE_HERE, COMPLETE_HERE)[0]  \n",
    "\n",
    "        # Find component orthogonal to subspace to use for next measurement\n",
    "        # COMPLETE THE LINE BELOW\n",
    "        r = b - Atrunc.dot(COMPLETE_HERE)\n",
    "\n",
    "        # This is for viewing the recovery process\n",
    "        if i % 10 == 0 or i == sparsity-1 or np.linalg.norm(r) <= THRESHOLD:\n",
    "            recovered_signal = np.zeros(numPixels)\n",
    "            for j, x in zip(indices, xhat):\n",
    "                recovered_signal[j] = x\n",
    "            Ihat = recovered_signal.reshape(imDims)\n",
    "            plt.title('estimated image')\n",
    "            plt.imshow(Ihat, cmap=plt.cm.gray, interpolation='nearest') \n",
    "            display.clear_output(wait=True)\n",
    "            display.display(plt.gcf())\n",
    "        \n",
    "        i = i + 1\n",
    "        \n",
    "    display.clear_output(wait=True)\n",
    "\n",
    "    # Fill in the recovered signal\n",
    "    recovered_signal = np.zeros(numPixels)\n",
    "    for i, x in zip(indices, xhat):\n",
    "        recovered_signal[i] = x\n",
    "    \n",
    "    return recovered_signal"
   ]
  },
  {
   "cell_type": "code",
   "execution_count": null,
   "metadata": {
    "collapsed": true
   },
   "outputs": [],
   "source": [
    "rec = OMP((height,width), sparsity, measurements, A)"
   ]
  },
  {
   "cell_type": "markdown",
   "metadata": {},
   "source": [
    "### PRACTICE: Part (c)"
   ]
  },
  {
   "cell_type": "code",
   "execution_count": null,
   "metadata": {
    "collapsed": true
   },
   "outputs": [],
   "source": [
    "# the setting\n",
    "\n",
    "# file name for the sparse image\n",
    "fname = 'figures/smiley.png'\n",
    "# number of measurements to be taken from the sparse image\n",
    "numMeasurements = 6500\n",
    "# the sparsity of the image\n",
    "sparsity = 400\n",
    "\n",
    "# read the image in black and white\n",
    "I = misc.imread(fname, flatten=1)\n",
    "# normalize the image to be between 0 and 1\n",
    "I = I/np.max(I)\n",
    "\n",
    "# shape of the image\n",
    "imageShape = I.shape\n",
    "# number of pixels in the image\n",
    "numPixels = I.size\n",
    "\n",
    "plt.title('input image')\n",
    "plt.imshow(I, cmap=plt.cm.gray, interpolation='nearest');"
   ]
  },
  {
   "cell_type": "code",
   "execution_count": null,
   "metadata": {
    "collapsed": true
   },
   "outputs": [],
   "source": [
    "# generate your image masks and the underlying measurement matrix\n",
    "Mask, A = randMasks(numMeasurements,numPixels)\n",
    "# vectorize your image\n",
    "full_signal = I.reshape((numPixels,1))\n",
    "# get the measurements\n",
    "measurements = np.dot(Mask,full_signal)\n",
    "# remove the mean from your measurements\n",
    "measurements = measurements - np.mean(measurements)"
   ]
  },
  {
   "cell_type": "code",
   "execution_count": null,
   "metadata": {
    "collapsed": true
   },
   "outputs": [],
   "source": [
    "# measurements\n",
    "plt.title('measurements')\n",
    "plt.plot(measurements)\n",
    "plt.xlabel('measurement index')\n",
    "plt.show()"
   ]
  },
  {
   "cell_type": "code",
   "execution_count": null,
   "metadata": {
    "collapsed": true
   },
   "outputs": [],
   "source": [
    "rec = OMP(imageShape, sparsity, measurements, A)"
   ]
  },
  {
   "cell_type": "markdown",
   "metadata": {},
   "source": [
    "## Question 4: Speeding Up OMP\n",
    "\n",
    "This example generates a sparse signal and tries to recover it using the Orthogonal Matching Pursuit algorithm."
   ]
  },
  {
   "cell_type": "code",
   "execution_count": null,
   "metadata": {
    "collapsed": true
   },
   "outputs": [],
   "source": [
    "# imports\n",
    "import matplotlib.pyplot as plt\n",
    "import numpy as np\n",
    "from scipy import misc\n",
    "from IPython import display\n",
    "from simulator import *\n",
    "%matplotlib inline"
   ]
  },
  {
   "cell_type": "code",
   "execution_count": null,
   "metadata": {
    "collapsed": true
   },
   "outputs": [],
   "source": [
    "# the setting\n",
    "\n",
    "# file name for the sparse image\n",
    "fname = 'figures/pika.png'\n",
    "# number of measurements to be taken from the sparse image\n",
    "numMeasurements = 9000\n",
    "# the sparsity of the image\n",
    "sparsity = 800\n",
    "\n",
    "# read the image in black and white\n",
    "I = misc.imread(fname, flatten=1)\n",
    "# normalize the image to be between 0 and 1\n",
    "I = I/np.max(I)\n",
    "\n",
    "# shape of the image\n",
    "imageShape = I.shape\n",
    "# number of pixels in the image\n",
    "numPixels = I.size\n",
    "\n",
    "plt.title('input image')\n",
    "plt.imshow(I, cmap=plt.cm.gray, interpolation='nearest');"
   ]
  },
  {
   "cell_type": "code",
   "execution_count": null,
   "metadata": {
    "collapsed": true
   },
   "outputs": [],
   "source": [
    "# generate your image masks and the underlying measurement matrix\n",
    "Mask, A = randMasks(numMeasurements,numPixels)\n",
    "# vectorize your image\n",
    "full_signal = I.reshape((numPixels,1))\n",
    "# get the measurements\n",
    "measurements = np.dot(Mask,full_signal)\n",
    "# remove the mean from your measurements\n",
    "measurements = measurements - np.mean(measurements)"
   ]
  },
  {
   "cell_type": "code",
   "execution_count": null,
   "metadata": {
    "collapsed": true
   },
   "outputs": [],
   "source": [
    "# measurements\n",
    "plt.title('measurements')\n",
    "plt.plot(measurements)\n",
    "plt.xlabel('measurement index')\n",
    "plt.show()"
   ]
  },
  {
   "cell_type": "code",
   "execution_count": null,
   "metadata": {
    "collapsed": true
   },
   "outputs": [],
   "source": [
    "# Write a function that returns a matrix U whose columns form\n",
    "# an orthonormal basis for the columns of the matrix A.\n",
    "def gramschmidt(A):\n",
    "    ## YOUR CODE HERE\n",
    "    return U\n",
    "\n",
    "# A better option is to write a function that takes in a matrix U0\n",
    "# with orthonormal columns and a single new vector v and adds another\n",
    "# orthonormal column to U0 creating a new matrix U whose columns are orthonormal\n",
    "# and span the column space of {U0, v}.\n",
    "# Note: Using this function will make your code faster.\n",
    "def gramschmidt_addone(U0, v):\n",
    "    ## YOUR CODE HERE\n",
    "    return U"
   ]
  },
  {
   "cell_type": "code",
   "execution_count": null,
   "metadata": {
    "collapsed": true
   },
   "outputs": [],
   "source": [
    "# THERE ARE MISSING LINES THAT YOU NEED TO FILL\n",
    "def OMP(imDims, sparsity, measurements, A):\n",
    "    r = measurements.copy()\n",
    "    indices = []\n",
    "    \n",
    "    # Threshold to check error. If error is below this value, stop.\n",
    "    THRESHOLD = 0.1\n",
    "    \n",
    "    # For iterating to recover all signal\n",
    "    i = 0\n",
    "    \n",
    "    ########################################\n",
    "    ### THIS LINE INITIALIZES THE MATRIX U\n",
    "    U = np.zeros([np.size(A,0),0])\n",
    "    ########################################\n",
    "    \n",
    "    while i < sparsity and np.linalg.norm(r) > THRESHOLD: \n",
    "        # calculate the correlations\n",
    "        print('%d - '%i,end=\"\",flush=True)\n",
    "        corrs = A.T.dot(r)\n",
    "\n",
    "        # Choose highest-correlated pixel location and add to collection\n",
    "        # COMPLETE THE LINE BELOW\n",
    "        best_index = np.argmax(np.abs(COMPLETE_HERE))\n",
    "        \n",
    "        ###########################\n",
    "        ### MODIFY THIS SECTION ###\n",
    "        ## TO USE GRAM-SCHMIDT  ###\n",
    "        ###########################\n",
    "                \n",
    "        indices.append(best_index)\n",
    "        \n",
    "        # Build the matrix made up of selected indices so far\n",
    "        # COMPLETE THE LINE BELOW\n",
    "        Atrunc = A[:,COMPLETE_HERE]\n",
    "        \n",
    "        #############################\n",
    "        ## CHOOSE ONE OF THESE LINES\n",
    "        U = gramschmidt(Atrunc)\n",
    "        ### OR\n",
    "        v = A[:,best_index]\n",
    "        U = gramschmidt_addone(U,v)\n",
    "        #############################\n",
    "        \n",
    "        # Find orthogonal projection of measurements to subspace\n",
    "        # spanned by recovered codewords\n",
    "        b = measurements\n",
    "        \n",
    "        ###################################\n",
    "        ## COMPLETE THE LINES BELOW AND\n",
    "        ## REWRITE THESE LINES USING GRAMSCHMIDT TO SPEED UP LEAST SQUARES\n",
    "        xhat = np.linalg.lstsq(COMPLETE_HERE, COMPLETE_HERE)[0]  \n",
    "        r = b - Atrunc.dot(COMPLETE_HERE)\n",
    "        ####################################\n",
    "        \n",
    "        # Find component orthogonal to subspace to use for next measurement\n",
    "        ## CHANGE THIS LINE        \n",
    "        \n",
    "        ###########################\n",
    "        ### ------------------- ###\n",
    "        ###########################\n",
    "        \n",
    "        # This is for viewing the recovery process\n",
    "        if i % 100 == 0 or i == sparsity-1 or np.linalg.norm(r) <= THRESHOLD:\n",
    "            \n",
    "            # RECOVERING xhat for plotting\n",
    "            xhat = np.dot(np.linalg.inv(np.dot(Atrunc.T,Atrunc)),np.dot(Atrunc.T,b-r))\n",
    "            \n",
    "            recovered_signal = np.zeros(numPixels)\n",
    "            for j, x in zip(indices, xhat):\n",
    "                recovered_signal[j] = x\n",
    "            Ihat = recovered_signal.reshape(imDims)\n",
    "            plt.title('estimated image')\n",
    "            plt.imshow(Ihat, cmap=plt.cm.gray, interpolation='nearest') \n",
    "            display.clear_output(wait=True)\n",
    "            display.display(plt.gcf())\n",
    "        \n",
    "        i = i + 1\n",
    "        \n",
    "    display.clear_output(wait=True)\n",
    "\n",
    "    # Fill in the recovered signal\n",
    "    recovered_signal = np.zeros(numPixels)\n",
    "    for i, x in zip(indices, xhat):\n",
    "        recovered_signal[i] = x\n",
    "    \n",
    "    return recovered_signal"
   ]
  },
  {
   "cell_type": "code",
   "execution_count": null,
   "metadata": {
    "collapsed": true
   },
   "outputs": [],
   "source": [
    "rec = OMP(imageShape, sparsity, measurements, A)"
   ]
  },
  {
   "cell_type": "markdown",
   "metadata": {},
   "source": [
    "## (PRACTICE) Question 6: Perceptron Valley"
   ]
  },
  {
   "cell_type": "code",
   "execution_count": null,
   "metadata": {
    "collapsed": true
   },
   "outputs": [],
   "source": [
    "%matplotlib inline\n",
    "\n",
    "import numpy as np\n",
    "import numpy.random as npr\n",
    "import time, sys\n",
    "from IPython.display import clear_output\n",
    "from IPython.display import display\n",
    "import matplotlib.pyplot as plt"
   ]
  },
  {
   "cell_type": "markdown",
   "metadata": {},
   "source": [
    "### Part (e)"
   ]
  },
  {
   "cell_type": "markdown",
   "metadata": {},
   "source": [
    "Fill in the missing lines of code in the following function definition to implement the PLA. The update is given below.\n",
    "<br>\n",
    "**if** $\\text{sign}\\left(\\langle\\vec{w}_j, \\, \\vec{x_i}\\rangle\\right) \\neq y_i$\n",
    "<br>\n",
    "$\\;\\;\\;\\;\\; \\vec{w}_{j+1} \\gets \\vec{w}_j + y_i \\vec{x_i}$\n",
    "<br>\n",
    "**else**\n",
    "<br>\n",
    "$\\;\\;\\;\\;\\; \\vec{w}_{j+1} \\gets \\vec{w}_j$\n",
    "<br>\n",
    "**end if**"
   ]
  },
  {
   "cell_type": "code",
   "execution_count": null,
   "metadata": {
    "collapsed": true
   },
   "outputs": [],
   "source": [
    "def PLA(X,y,w_0,J,ax):\n",
    "    n = len(y)\n",
    "    w_j = w_0\n",
    "    for j in range(J):\n",
    "        i = npr.randint(0,n-1)\n",
    "        x_i = X[:,i]\n",
    "        y_i = y[i]\n",
    "        \n",
    "        # YOUR CODE HERE\n",
    "        \n",
    "        plotHyperplane(ax,X,y,i,j,w_j)\n",
    "    w_J = w_j\n",
    "    return w_J"
   ]
  },
  {
   "cell_type": "code",
   "execution_count": null,
   "metadata": {
    "collapsed": true
   },
   "outputs": [],
   "source": [
    "def plotHyperplane(ax,X,y,i,j,w_j):\n",
    "    ma = 1.1*max(abs(np.concatenate((X[0,:],X[1,:]))))\n",
    "    ax.axis('equal')\n",
    "    ax.axhline(y=0, color='k')\n",
    "    ax.axvline(x=0, color='k')\n",
    "    ax.plot(X[0,y==1],X[1,y==1],'r+')\n",
    "    ax.plot(X[0,y==-1],X[1,y==-1],'bx')\n",
    "    if y[i] == 1:\n",
    "        ax.plot(X[0,i],X[1,i],'k+')\n",
    "    else:\n",
    "        ax.plot(X[0,i],X[1,i],'kx')\n",
    "    ax.arrow(0,0,w_j[0],w_j[1],head_width=0.1,head_length=0.1,fc='k',ec='k')\n",
    "    ax.arrow(0,0,-100*w_j[1],100*w_j[0],head_width=0.1,head_length=0.1,fc='g',ec='g')\n",
    "    ax.arrow(0,0,100*w_j[1],-100*w_j[0],head_width=0.1,head_length=0.1,fc='g',ec='g')\n",
    "    ax.axis((-ma,ma,-ma,ma))\n",
    "    ax.set_title('Iteration {}: training error = {}'.format(j,trainingError(X,y,w_j)))\n",
    "    time.sleep(0.1)\n",
    "    clear_output(True)\n",
    "    display(fg)\n",
    "    ax.cla()"
   ]
  },
  {
   "cell_type": "code",
   "execution_count": null,
   "metadata": {
    "collapsed": true
   },
   "outputs": [],
   "source": [
    "def trainingError(X,y,w_j):\n",
    "    n = len(y)\n",
    "    y_p = np.sign(np.dot(X.T,w_j))\n",
    "    return float(np.sum(y_p!=y)) / float(n) "
   ]
  },
  {
   "cell_type": "code",
   "execution_count": null,
   "metadata": {
    "collapsed": true
   },
   "outputs": [],
   "source": [
    "# Generate data points\n",
    "n = 100\n",
    "d = 2\n",
    "X = np.concatenate((npr.normal(1,0.5,(d,np.int(n/2))),npr.normal(-1,1,(d,np.int(n/2)))),axis=1)\n",
    "y = np.concatenate((np.ones(np.int(n/2)),-np.ones(np.int(n/2))))"
   ]
  },
  {
   "cell_type": "code",
   "execution_count": null,
   "metadata": {
    "collapsed": true
   },
   "outputs": [],
   "source": [
    "# Run PLA and watch it learn\n",
    "w_0 = np.array([-5,-5])\n",
    "J = 25\n",
    "fg, ax = plt.subplots()\n",
    "w_J = PLA(X,y,w_0,J,ax)\n",
    "plt.close()"
   ]
  }
 ],
 "metadata": {
  "kernelspec": {
   "display_name": "Python 3",
   "language": "python",
   "name": "python3"
  },
  "language_info": {
   "codemirror_mode": {
    "name": "ipython",
    "version": 3
   },
   "file_extension": ".py",
   "mimetype": "text/x-python",
   "name": "python",
   "nbconvert_exporter": "python",
   "pygments_lexer": "ipython3",
   "version": "3.6.3"
  }
 },
 "nbformat": 4,
 "nbformat_minor": 1
}
